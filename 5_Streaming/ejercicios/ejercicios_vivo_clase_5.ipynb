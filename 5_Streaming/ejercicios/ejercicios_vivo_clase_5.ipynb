{
  "cells": [
    {
      "cell_type": "markdown",
      "id": "13eb98b5",
      "metadata": {
        "id": "13eb98b5"
      },
      "source": [
        "# Ejercicios PySpark clase 5"
      ]
    },
    {
      "cell_type": "code",
      "source": [
        "!pip install pyspark==3.2.0\n",
        "!wget https://github.com/openscoring/openscoring/releases/download/2.1.0/openscoring-server-executable-2.1.0.jar\n",
        "!wget https://downloads.apache.org/kafka/3.4.1/kafka_2.12-3.4.1.tgz\n",
        "!tar -xzf kafka_2.12-3.4.1.tgz"
      ],
      "metadata": {
        "colab": {
          "base_uri": "https://localhost:8080/"
        },
        "id": "gZMkjTCbIy9B",
        "outputId": "a1750e4e-e0d7-45b8-95f5-2a42755ed02f"
      },
      "id": "gZMkjTCbIy9B",
      "execution_count": null,
      "outputs": [
        {
          "output_type": "stream",
          "name": "stdout",
          "text": [
            "Requirement already satisfied: pyspark==3.2.0 in /usr/local/lib/python3.10/dist-packages (3.2.0)\n",
            "Requirement already satisfied: py4j==0.10.9.2 in /usr/local/lib/python3.10/dist-packages (from pyspark==3.2.0) (0.10.9.2)\n"
          ]
        }
      ]
    },
    {
      "cell_type": "markdown",
      "id": "ab62899b",
      "metadata": {
        "id": "ab62899b"
      },
      "source": [
        "## Operaciones con DataFrames en PySpark - Análisis de Videojuegos\n",
        "Se proporciona un dataset de videojuegos llamado 'videogames.csv'. Realiza las siguientes operaciones utilizando PySpark:\n",
        "- Carga el dataset como un DataFrame.\n",
        "- Filtra los videojuegos que no pertenezcan a la plataforma \"PC\".\n",
        "- Cuenta la cantidad de videojuegos para cada género.\n",
        "- Muestra el top 5 de los géneros con más videojuegos.\n",
        "- Escribe el resultado en un archivo CSV.\n"
      ]
    },
    {
      "cell_type": "markdown",
      "id": "f3f32eaa",
      "metadata": {
        "id": "f3f32eaa"
      },
      "source": [
        "## Análisis de tendencias en tweets en tiempo real\n",
        "Se reciben trasmisiones de tweets por un sistema Kafka con el topic 'tweets'. Utilizando PySpark Streaming, conectarse al sistema Kafka y realizar las siguientes operaciones:\n",
        "- Leer los tweets en tiempo real.\n",
        "- Filtrar los tweets que contengan ciertas palabras clave, por ejemplo, \"covid\", \"vaccine\", \"pandemic\".\n",
        "- Contar la cantidad de tweets por cada palabra clave.\n",
        "- Imprimir el conteo actualizado en la consola.\n"
      ]
    },
    {
      "cell_type": "markdown",
      "id": "08da4383",
      "metadata": {
        "id": "08da4383"
      },
      "source": [
        "## Procesamiento de imágenes en PySpark\n",
        "Utiliza el ImageSchema de PySpark para realizar las siguientes operaciones:\n",
        "- Leer un grupo de imágenes en un DataFrame.\n",
        "- Mostrar información sobre las imágenes, como el formato, altura, anchura y el canal de color.\n",
        "- Filtrar imágenes con una altura y anchura mayor a 640x480.\n",
        "- Guardar las imágenes filtradas en un archivo binario.\n"
      ]
    }
  ],
  "metadata": {
    "colab": {
      "provenance": []
    },
    "language_info": {
      "name": "python"
    },
    "kernelspec": {
      "name": "python3",
      "display_name": "Python 3"
    }
  },
  "nbformat": 4,
  "nbformat_minor": 5
}