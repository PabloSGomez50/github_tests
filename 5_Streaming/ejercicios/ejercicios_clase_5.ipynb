{
  "cells": [
    {
      "cell_type": "markdown",
      "metadata": {
        "id": "MK3_fvXVgjB5"
      },
      "source": [
        "# Spark Streaming\n",
        "\n",
        "El objetivo del ejercicio es utilizar el `fileStream` y el `SparkContext`. Se debe tomar el ejemplo anterior, buscar en la carpeta los archivos json que se fueron generando y hacer una agrupación de count para los valores de los features para ver si hay `sepal_width` repetidos. Los resultados pueden ser escritos a otros archivos json en formato `update` o mostrados en consola.\n"
      ]
    },
    {
      "cell_type": "markdown",
      "metadata": {
        "id": "ynyDZlkUg5Sv"
      },
      "source": [
        "## Dependencias\n",
        "\n",
        "Aquí se instalan las dependencias y descargan los archivos necesarios para correr este colab"
      ]
    },
    {
      "cell_type": "code",
      "execution_count": null,
      "metadata": {
        "id": "xT0h2lxAgiev",
        "colab": {
          "base_uri": "https://localhost:8080/"
        },
        "outputId": "52a4cc5c-d227-40eb-ed9d-01d9cecc6f90"
      },
      "outputs": [
        {
          "output_type": "stream",
          "name": "stdout",
          "text": [
            "Collecting pyspark==3.2.0\n",
            "  Downloading pyspark-3.2.0.tar.gz (281.3 MB)\n",
            "\u001b[2K     \u001b[91m━━━━━━━━━━━━━━━━━━━━━━\u001b[0m\u001b[91m╸\u001b[0m\u001b[90m━━━━━━━━━━━━━━\u001b[0m \u001b[32m173.1/281.3 MB\u001b[0m \u001b[31m113.2 MB/s\u001b[0m eta \u001b[36m0:00:01\u001b[0m"
          ]
        }
      ],
      "source": [
        "!pip install pyspark==3.2.0\n",
        "!wget https://gist.githubusercontent.com/netj/8836201/raw/6f9306ad21398ea43cba4f7d537619d0e07d5ae3/iris.csv\n",
        "!wget https://github.com/openscoring/openscoring/releases/download/2.1.0/openscoring-server-executable-2.1.0.jar\n",
        "!wget https://downloads.apache.org/kafka/3.4.1/kafka_2.12-3.4.1.tgz\n",
        "!tar -xzf kafka_2.12-3.4.1.tgz"
      ]
    },
    {
      "cell_type": "code",
      "source": [
        "!./kafka_2.12-3.4.1/bin/zookeeper-server-start.sh -daemon ./kafka_2.12-3.4.1/config/zookeeper.properties\n",
        "!./kafka_2.12-3.4.1/bin/kafka-server-start.sh -daemon ./kafka_2.12-3.4.1/config/server.properties\n",
        "!echo \"Waiting for 10 secs until kafka and zookeeper services are up and running\"\n",
        "!sleep 20\n",
        "!ps -ef | grep kafka\n",
        "# iniciando el tópico iris con replicación 1 y 1 partición\n",
        "!./kafka_2.12-3.4.1/bin/kafka-topics.sh --create --bootstrap-server 127.0.0.1:9092 --replication-factor 1 --partitions 1 --topic iris\n",
        "!./kafka_2.12-3.4.1/bin/kafka-topics.sh --describe --bootstrap-server 127.0.0.1:9092 --topic iris"
      ],
      "metadata": {
        "id": "qvR5oqlxeOvk"
      },
      "execution_count": null,
      "outputs": []
    },
    {
      "cell_type": "markdown",
      "metadata": {
        "id": "c2Ay41MvixBu"
      },
      "source": [
        "### Imports"
      ]
    },
    {
      "cell_type": "code",
      "execution_count": null,
      "metadata": {
        "id": "hixfwphmiyUX"
      },
      "outputs": [],
      "source": [
        "import os\n",
        "import requests\n",
        "\n",
        "from uuid import uuid4\n",
        "\n",
        "from pyspark.sql import SparkSession\n",
        "from pyspark.ml import Pipeline\n",
        "from pyspark.ml.classification import RandomForestClassifier\n",
        "from pyspark.sql.types import StructType, DoubleType, StringType, IntegerType\n",
        "from pyspark.ml.linalg import Vectors\n",
        "from pyspark.sql.functions import col, udf, from_json, to_json, struct, md5\n",
        "from pyspark.ml.evaluation import MulticlassClassificationEvaluator\n",
        "from pyspark.ml.feature import (\n",
        "    MinMaxScaler,\n",
        "    VectorAssembler,\n",
        "    OneHotEncoder,\n",
        "    StringIndexer,\n",
        "    IndexToString\n",
        ")"
      ]
    },
    {
      "cell_type": "markdown",
      "source": [
        "### Creando el cluster de Spark con las dependencias instaladas\n",
        "\n",
        "En este caso, en vez de usar archivos JAR, estamos especificando los paquetes que necesitamos y Spark se encarga de descargarlos por nosotros (si no estuvieran presentes).\n",
        "\n",
        "Adicionalmente, se crea el cluster de Spark con `local[*]` para que el cluster decida la cantidad de threads que necesita para correr el notebook."
      ],
      "metadata": {
        "id": "owopwYT02Hk9"
      }
    },
    {
      "cell_type": "code",
      "execution_count": null,
      "metadata": {
        "id": "1stM2jzAgjqq"
      },
      "outputs": [],
      "source": [
        "os.environ['PYSPARK_SUBMIT_ARGS'] = '--packages org.apache.spark:spark-sql-kafka-0-10_2.12:3.2.0,org.apache.kafka:kafka-clients:2.8.1 --master local[*] pyspark-shell'\n",
        "\n",
        "spark = SparkSession \\\n",
        "    .builder \\\n",
        "    .master('local[*]') \\\n",
        "    .appName(\"Spark Streaming\") \\\n",
        "    .getOrCreate()\n",
        "sc = spark.sparkContext"
      ]
    },
    {
      "cell_type": "markdown",
      "source": [
        "### Importando el dataset\n",
        "\n",
        "En el siguiente bloque se define el schema. En la mayoría de los casos esto no es necesario, pero como las columnas del dataset `iris.csv` tienen puntos en los nombres: `sepal.width` Spark entiende que es un `Struct` o un objeto y trata de descomponerlo. Como no puede, este falla. Lo que hacemos para solucionar esto es cambiarle el nombre agregando *backticks* (el siguiente caracter: `)\n",
        "\n",
        "En este caso, vamos a usar la función `cache()` al final de la definición del dataset. Esto sirve para mantener el dataset en memoria y que las operaciones sean mucho más rapidas. Hacemos esto ya que luego vamos a ver como se pueden usar un dataset estático y streaming en conjunto."
      ],
      "metadata": {
        "id": "5gVrUFGP21wO"
      }
    },
    {
      "cell_type": "code",
      "execution_count": null,
      "metadata": {
        "colab": {
          "base_uri": "https://localhost:8080/"
        },
        "id": "AxMtCwi6jHwt",
        "outputId": "e0a79f15-c650-442a-ae3b-fdf3786be264"
      },
      "outputs": [
        {
          "output_type": "stream",
          "name": "stdout",
          "text": [
            "+-----------+------------+-----------+------------+-------+\n",
            "|sepal_width|sepal_length|petal_width|petal_length|variety|\n",
            "+-----------+------------+-----------+------------+-------+\n",
            "|        3.5|         5.1|        0.2|         1.4| Setosa|\n",
            "|        3.0|         4.9|        0.2|         1.4| Setosa|\n",
            "|        3.2|         4.7|        0.2|         1.3| Setosa|\n",
            "|        3.1|         4.6|        0.2|         1.5| Setosa|\n",
            "|        3.6|         5.0|        0.2|         1.4| Setosa|\n",
            "|        3.9|         5.4|        0.4|         1.7| Setosa|\n",
            "|        3.4|         4.6|        0.3|         1.4| Setosa|\n",
            "|        3.4|         5.0|        0.2|         1.5| Setosa|\n",
            "|        2.9|         4.4|        0.2|         1.4| Setosa|\n",
            "|        3.1|         4.9|        0.1|         1.5| Setosa|\n",
            "|        3.7|         5.4|        0.2|         1.5| Setosa|\n",
            "|        3.4|         4.8|        0.2|         1.6| Setosa|\n",
            "|        3.0|         4.8|        0.1|         1.4| Setosa|\n",
            "|        3.0|         4.3|        0.1|         1.1| Setosa|\n",
            "|        4.0|         5.8|        0.2|         1.2| Setosa|\n",
            "|        4.4|         5.7|        0.4|         1.5| Setosa|\n",
            "|        3.9|         5.4|        0.4|         1.3| Setosa|\n",
            "|        3.5|         5.1|        0.3|         1.4| Setosa|\n",
            "|        3.8|         5.7|        0.3|         1.7| Setosa|\n",
            "|        3.8|         5.1|        0.3|         1.5| Setosa|\n",
            "+-----------+------------+-----------+------------+-------+\n",
            "only showing top 20 rows\n",
            "\n",
            "root\n",
            " |-- sepal_width: double (nullable = true)\n",
            " |-- sepal_length: double (nullable = true)\n",
            " |-- petal_width: double (nullable = true)\n",
            " |-- petal_length: double (nullable = true)\n",
            " |-- variety: string (nullable = true)\n",
            "\n"
          ]
        }
      ],
      "source": [
        "iris_schema = StructType().add('sepal.length', DoubleType()) \\\n",
        "  .add('sepal.width', DoubleType()) \\\n",
        "  .add('petal.length', DoubleType()) \\\n",
        "  .add('petal.width', DoubleType()) \\\n",
        "  .add('variety', StringType())\n",
        "\n",
        "# renaming columns to remove dot for better compatibility\n",
        "iris_df = spark.read.format('csv') \\\n",
        "  .schema(iris_schema) \\\n",
        "  .option('header', 'true') \\\n",
        "  .load('iris.csv') \\\n",
        "  .select(\n",
        "      col('`sepal.width`').alias('sepal_width'),\n",
        "      col('`sepal.length`').alias('sepal_length'),\n",
        "      col('`petal.width`').alias('petal_width'),\n",
        "      col('`petal.length`').alias('petal_length'),\n",
        "      col('variety')\n",
        "    ).cache()\n",
        "iris_df.show()\n",
        "iris_df.printSchema()"
      ]
    },
    {
      "cell_type": "markdown",
      "source": [
        "## Openscoring y copia de modelos\n",
        "\n",
        "**NOTA IMPORTANTE**: en los comandos `cp` de las celdas que siguen, deben ponerse la dirección de su drive donde apunte a estos archivos. Los archivos estan disponibles en la carpeta del colab. Para conectar colab con drive, abrir los archivos (botón arriba a la izquierda que es una carpeta) y arriba de todo habrá un ícono de drive. Si se le da click se conecta y se agrega una carpeta llamada **drive** en la dirección `/content/drive`."
      ],
      "metadata": {
        "id": "MqnCnCHbEgKM"
      }
    },
    {
      "cell_type": "code",
      "execution_count": null,
      "metadata": {
        "colab": {
          "base_uri": "https://localhost:8080/"
        },
        "id": "UTmTL6xZPbDY",
        "outputId": "04a92d5a-c5eb-49ff-82bb-21eb0b0d2e32"
      },
      "outputs": [
        {
          "output_type": "stream",
          "name": "stdout",
          "text": [
            "nohup: appending output to 'nohup.out'\n"
          ]
        }
      ],
      "source": [
        "!nohup java -jar /content/openscoring-server-executable-2.1.0.jar --port 8081 &\n",
        "!sleep 10"
      ]
    },
    {
      "cell_type": "code",
      "source": [
        "from google.colab import drive\n",
        "drive.mount('/content/drive')"
      ],
      "metadata": {
        "id": "7u9wE2L0xdEW"
      },
      "execution_count": null,
      "outputs": []
    },
    {
      "cell_type": "markdown",
      "source": [
        "**NOTA IMPORTANTE**: el path debe ser donde cada uno guardo la carpeta_index_to_class y RandomForestIris.pmml\n",
        "El link donde encuentran la carpeta index_to_class y el archivo PMML es: https://drive.google.com/drive/folders/135dwjynARvhTEAtdS2dm85aiYqLXLKzR?usp=sharing"
      ],
      "metadata": {
        "id": "eht6Cj0D1BTj"
      }
    },
    {
      "cell_type": "code",
      "source": [
        "!cp -r ./drive/MyDrive/Other/Humai/Clase_5_Spark_Streaming/index_to_class ./index_to_string\n",
        "!cp -r ./drive/MyDrive/Other/Humai/Clase_5_Spark_Streaming/RandomForestIris.pmml ."
      ],
      "metadata": {
        "id": "HkWp4uLmZJcw"
      },
      "execution_count": null,
      "outputs": []
    },
    {
      "cell_type": "markdown",
      "source": [
        "### Data Locallity o Localidad de la Data\n",
        "\n",
        "Las personas que diseñaron Spark notaron que es más costoeficiente \"mover los cómputos\" que \"mover la data\". Es decir, es más barato ejecutar los computos donde esta la data que mover la data a donde esta el computo. Por eso, no solamente Spark es procesamiento distribuido, sino que usa un patrón crucial para su funcionamiento óptimo. Este es, tener en cuenta la **Localidad de los datos**. Esto significa que los procesamientos que se envían al cluster de Spark, deben intentar poder ser performados por las máquinas en donde la data esta y evitar el *shuffling* (que los datos de una maquina termine en otra, que vimos que es costoso).\n",
        "\n",
        "Es importante tener esto en cuenta al momento de diseñar un sistema utilizando las tecnologías vistas en este colab. Se podría pensar en una arquitectura con los modelos desplegados en la misma máquina donde esta la data, de esta manera las consultas no saldrían de esta y sería extremadamente rápido, a pesar de que fuera HTTP.\n",
        "\n",
        "Los invito a considerar diferentes opciones y conversarlas en el discord."
      ],
      "metadata": {
        "id": "MaCUWqGV402n"
      }
    },
    {
      "cell_type": "code",
      "source": [
        "!curl -X PUT --data-binary @RandomForestIris.pmml -H \"Content-type: text/xml\" http://localhost:8081/openscoring/model/RandomForestIris"
      ],
      "metadata": {
        "colab": {
          "base_uri": "https://localhost:8080/"
        },
        "id": "0wUzTVy18yvY",
        "outputId": "7b2bdfa4-7af4-4a0e-8e09-c5db9da9508f"
      },
      "execution_count": null,
      "outputs": [
        {
          "output_type": "stream",
          "name": "stdout",
          "text": [
            "Warning: Couldn't read data from file \"RandomForestIris.pmml\", this makes an \n",
            "Warning: empty POST.\n",
            "{\n",
            "  \"message\" : \"Premature end of file.\"\n",
            "}"
          ]
        }
      ]
    },
    {
      "cell_type": "markdown",
      "source": [
        "## Se define la UDF para la inferencia en tiempo real"
      ],
      "metadata": {
        "id": "Pt9VyKdGFJpB"
      }
    },
    {
      "cell_type": "code",
      "source": [
        "def make_model_prediction(sepal_width, sepal_length, petal_width, petal_length):\n",
        "  body = {\n",
        "    'id': f'record-{uuid4()}',\n",
        "    'arguments': {'sepal_width': sepal_width, 'sepal_length': sepal_length,\n",
        "             'petal_width': petal_width, 'petal_length': petal_length}\n",
        "          }\n",
        "\n",
        "  headers = {\"Content-type\": \"application/json\"}\n",
        "  response = requests.post(url='http://localhost:8081/openscoring/model/RandomForestIris', json=body, headers=headers)\n",
        "\n",
        "  return response.json()['results']['prediction']\n",
        "\n",
        "\n",
        "make_model_prediction_udf = udf(make_model_prediction)"
      ],
      "metadata": {
        "id": "d95tSDA2gJt2"
      },
      "execution_count": null,
      "outputs": []
    },
    {
      "cell_type": "markdown",
      "source": [
        "## Se carga el modelo de `IndexToString` para pasar de la predicción numérica a la clase real"
      ],
      "metadata": {
        "id": "EROGXxkjFMZh"
      }
    },
    {
      "cell_type": "code",
      "source": [
        "index_to_class = IndexToString.load('./index_to_string')"
      ],
      "metadata": {
        "id": "s_gc_QYWb0_E"
      },
      "execution_count": null,
      "outputs": []
    },
    {
      "cell_type": "code",
      "source": [
        "!mkdir results\n",
        "!mkdir checkpoint"
      ],
      "metadata": {
        "id": "4NuWhqfVWbsy"
      },
      "execution_count": null,
      "outputs": []
    },
    {
      "cell_type": "markdown",
      "source": [
        "## Leyendo de Kafka\n",
        "\n",
        "En este paso se ejecuta la lectura de Kafka, pero no automáticamente ni directamente, sino que se comienza un proceso que va a leer la data cuando llegue, va a desarmar el json, va a ejecutar la predicción, y va a hacer un join con la data original para ver si se predijo bien o no. Esto se ejecuta de manera asincrónica."
      ],
      "metadata": {
        "id": "NBe6ADn6FTcB"
      }
    },
    {
      "cell_type": "code",
      "source": [
        "source_schema = StructType().add('sepal_length', DoubleType()) \\\n",
        "  .add('sepal_width', DoubleType()) \\\n",
        "  .add('petal_length', DoubleType()) \\\n",
        "  .add('petal_width', DoubleType())\n",
        "\n",
        "streaming_df = spark \\\n",
        "  .readStream \\\n",
        "  .format(\"kafka\") \\\n",
        "  .option(\"kafka.bootstrap.servers\", \"127.0.0.1:9092\") \\\n",
        "  .option(\"subscribe\", \"iris\") \\\n",
        "  .load() \\\n",
        "  .select(from_json(col('value').cast('string'), source_schema).alias('value')) \\\n",
        "  .select(col('value.sepal_length').alias('sepal_length'),\n",
        "          col('value.sepal_width').alias('sepal_width'),\n",
        "          col('value.petal_length').alias('petal_length'),\n",
        "          col('value.petal_width').alias('petal_width')) \\\n",
        "  .select('*', make_model_prediction_udf('sepal_width', 'sepal_length',\n",
        "                                    'petal_width', 'petal_length') \\\n",
        "          .cast(IntegerType()).alias('prediction')) \\\n",
        "  .join(iris_df, ['sepal_length', 'sepal_width', 'petal_length', 'petal_width']) \\\n",
        "  .withColumnRenamed('variety', 'original_class')\n",
        "\n",
        "streaming_df = index_to_class.transform(streaming_df)\n",
        "\n",
        "streaming_df.writeStream.outputMode('append').format('json').option('path', 'results').option('header', 'true').option(\"checkpointLocation\", \"checkpoint\").start()"
      ],
      "metadata": {
        "id": "-1sf4mn-VzZ9"
      },
      "execution_count": null,
      "outputs": []
    },
    {
      "cell_type": "markdown",
      "source": [
        "El objetivo del ejercicio es utilizar el `fileStream` y el `SparkContext`. Se debe tomar el ejemplo anterior, buscar en la carpeta los archivos json que se fueron generando y hacer una agrupación de count para los valores de los features para ver si hay `sepal_width` repetidos. Los resultados pueden ser escritos a otros archivos json en formato `update` o mostrados en consola."
      ],
      "metadata": {
        "id": "LCBQliyRzbAN"
      }
    },
    {
      "cell_type": "code",
      "source": [
        "!sleep 10\n",
        "\n",
        "def write_result(rdd):\n",
        "\n",
        "ssc = StreamingContext(sc, 1)\n",
        "\n",
        "lines = ssc.textFileStream('file:///content/results2')\n",
        "\n",
        "lines.pprint()\n",
        "\n",
        "ssc.start()"
      ],
      "metadata": {
        "id": "8nnPV4kZyh30"
      },
      "execution_count": null,
      "outputs": []
    },
    {
      "cell_type": "markdown",
      "source": [
        "## Escribiendo a Kafka\n",
        "\n",
        "Ya iniciado el paso anterior, se escribe a Kafka el dataset completo. Esto llegara al proceso anterior y se hara la predicción. Para ver los resutlados, ir a la carpeta ubicada en `/content/results` y buscar los archivos que comienzan en `part-000...`. Ahi estan los resultados en formato json.\n",
        "\n",
        "En este caso como clave se eligió el hash de los valores de entrada. La realidad es que no hace diferencia ya que solo hay una partición."
      ],
      "metadata": {
        "id": "q1Jp_VC1FwWQ"
      }
    },
    {
      "cell_type": "code",
      "source": [
        "!sleep 10\n",
        "\n",
        "iris_df.select(to_json(struct('sepal_width', 'sepal_length', 'petal_width', 'petal_length')).alias('value')) \\\n",
        "  .withColumn('key', md5('value')) \\\n",
        "  .selectExpr(\"key\", \"CAST(value AS STRING)\") \\\n",
        "  .write \\\n",
        "  .format(\"kafka\") \\\n",
        "  .option(\"kafka.bootstrap.servers\", \"127.0.0.1:9092\") \\\n",
        "  .option(\"topic\", \"iris\") \\\n",
        "  .save()"
      ],
      "metadata": {
        "id": "2Bi5cA5TiIuL"
      },
      "execution_count": null,
      "outputs": []
    }
  ],
  "metadata": {
    "colab": {
      "provenance": []
    },
    "kernelspec": {
      "display_name": "Python 3",
      "name": "python3"
    },
    "language_info": {
      "name": "python"
    }
  },
  "nbformat": 4,
  "nbformat_minor": 0
}