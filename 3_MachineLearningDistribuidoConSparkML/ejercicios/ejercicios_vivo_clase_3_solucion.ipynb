{
  "cells": [
    {
      "cell_type": "markdown",
      "id": "1643472e",
      "metadata": {
        "id": "1643472e"
      },
      "source": [
        "##Ejercicios ML con PySpark Vivo Clase 3\n"
      ]
    },
    {
      "cell_type": "code",
      "source": [
        "!pip install pyspark -q"
      ],
      "metadata": {
        "id": "8ErZbUiojt4d"
      },
      "id": "8ErZbUiojt4d",
      "execution_count": null,
      "outputs": []
    },
    {
      "cell_type": "markdown",
      "id": "72dcf0dc",
      "metadata": {
        "id": "72dcf0dc"
      },
      "source": [
        "## Carga de datos y preparación del dataset\n",
        "Importar el archivo \"titanic.csv\" a un DataFrame de PySpark y seleccionar solo las columnas \"Pclass\", \"Age\" y \"Survived\"."
      ]
    },
    {
      "cell_type": "code",
      "execution_count": null,
      "id": "888ef2ed",
      "metadata": {
        "id": "888ef2ed"
      },
      "outputs": [],
      "source": [
        "from pyspark.sql import SparkSession\n",
        "from pyspark.sql.functions import col\n",
        "from pyspark import SparkFiles\n",
        "from pyspark.sql.types import IntegerType, FloatType\n",
        "from pyspark.ml.feature import StringIndexer\n",
        "\n",
        "\n",
        "spark = SparkSession.builder.master(\"local\").appName(\"Titanic\").getOrCreate()\n",
        "\n",
        "url = \"https://github.com/datasciencedojo/datasets/raw/master/titanic.csv\"\n",
        "\n",
        "spark.sparkContext.addFile(url)\n",
        "\n",
        "titanic_data = spark.read.csv(SparkFiles.get(\"titanic.csv\"), header=True)\n",
        "\n",
        "# Agregar el sexo del pasajero a la evaluacion y ver si mejora la performance\n",
        "# sex_column_indexer = StringIndexer(inputCol='Sex', outputCol='SexIndexed').fit(titanic_data)\n",
        "# titanic_data = sex_column_indexer.transform(titanic_data)\n",
        "\n",
        "titanic_data_cleaned = titanic_data.na.drop().select(col(\"Pclass\").cast(IntegerType()),\n",
        "                                           col(\"Age\").cast(IntegerType()),\n",
        "                                           col(\"Survived\").cast(IntegerType()))#,\n",
        "                                          #col(\"SexIndexed\").cast(IntegerType()))"
      ]
    },
    {
      "cell_type": "markdown",
      "id": "24ef3abb",
      "metadata": {
        "id": "24ef3abb"
      },
      "source": [
        "## Creación de características (features) y etiquetas (labels)\n",
        "Crear un vector de features usando VectorAssembler y renombrar la columna \"Survived\" como \"label\"."
      ]
    },
    {
      "cell_type": "code",
      "execution_count": null,
      "id": "20962884",
      "metadata": {
        "id": "20962884"
      },
      "outputs": [],
      "source": [
        "from pyspark.ml.feature import VectorAssembler\n",
        "\n",
        "assembler = VectorAssembler(inputCols=[\"Pclass\", \"Age\"]#, \"SexIndexed\"]\n",
        "                            ,outputCol=\"features\")\n",
        "titanic_data_features = assembler.transform(titanic_data_cleaned)\n",
        "\n",
        "titanic_data_features = titanic_data_features.withColumnRenamed(\"Survived\", \"label\")"
      ]
    },
    {
      "cell_type": "markdown",
      "id": "d9c1a30b",
      "metadata": {
        "id": "d9c1a30b"
      },
      "source": [
        "## Entrenamiento del modelo de clasificación y evaluación de su rendimiento\n",
        "Entrenar un modelo de Regresión Logística usando el dataset de entrenamiento y evaluar su desempeño utilizando la métrica \"Accuracy\" en el conjunto de prueba."
      ]
    },
    {
      "cell_type": "code",
      "execution_count": null,
      "id": "955110da",
      "metadata": {
        "id": "955110da",
        "colab": {
          "base_uri": "https://localhost:8080/"
        },
        "outputId": "7543c3c3-f5ff-42ce-8425-e9853b47b994"
      },
      "outputs": [
        {
          "output_type": "stream",
          "name": "stdout",
          "text": [
            "Test Accuracy:  0.7\n"
          ]
        }
      ],
      "source": [
        "from pyspark.ml.classification import LogisticRegression\n",
        "from pyspark.ml.evaluation import BinaryClassificationEvaluator\n",
        "\n",
        "# Dividir datos en conjuntos de entrenamiento y prueba\n",
        "train_data, test_data = titanic_data_features.randomSplit([0.7, 0.3])\n",
        "\n",
        "# Entrenamiento del modelo\n",
        "lr = LogisticRegression(featuresCol=\"features\", labelCol=\"label\")\n",
        "lr_model = lr.fit(train_data)\n",
        "\n",
        "# Predicciones en el conjunto de test\n",
        "predictions = lr_model.transform(test_data)\n",
        "\n",
        "# Evaluación del rendimiento del modelo\n",
        "evaluator = BinaryClassificationEvaluator(rawPredictionCol=\"rawPrediction\", metricName=\"areaUnderROC\")\n",
        "accuracy = evaluator.evaluate(predictions)\n",
        "\n",
        "print(\"Test Accuracy: \", accuracy)"
      ]
    },
    {
      "cell_type": "markdown",
      "source": [
        "##¿Qué pasa si agregamos una feature?\n",
        "Agregar el sexo del pasajero a la evaluacion y ver si mejora la performance"
      ],
      "metadata": {
        "id": "GIHQhoGLKCUB"
      },
      "id": "GIHQhoGLKCUB"
    },
    {
      "cell_type": "code",
      "source": [
        "from pyspark.sql import SparkSession\n",
        "from pyspark.sql.functions import col\n",
        "from pyspark import SparkFiles\n",
        "from pyspark.sql.types import IntegerType, FloatType\n",
        "from pyspark.ml.feature import StringIndexer, VectorAssembler\n",
        "from pyspark.ml.classification import LogisticRegression\n",
        "from pyspark.ml.evaluation import BinaryClassificationEvaluator\n",
        "\n",
        "# Inicializar SparkSession\n",
        "spark = SparkSession.builder.master(\"local\").appName(\"Titanic\").getOrCreate()\n",
        "\n",
        "# Cargar datos\n",
        "url = \"https://github.com/datasciencedojo/datasets/raw/master/titanic.csv\"\n",
        "spark.sparkContext.addFile(url)\n",
        "titanic_data = spark.read.csv(SparkFiles.get(\"titanic.csv\"), header=True)\n",
        "\n",
        "# Transformación de la columna 'Sex'\n",
        "sex_column_indexer = StringIndexer(inputCol='Sex', outputCol='SexIndexed').fit(titanic_data)\n",
        "titanic_data = sex_column_indexer.transform(titanic_data)\n",
        "\n",
        "# Limpieza de datos y selección de características\n",
        "titanic_data_cleaned = titanic_data.na.drop().select(\n",
        "    col(\"Pclass\").cast(IntegerType()),\n",
        "    col(\"Age\").cast(FloatType()),\n",
        "    col(\"SexIndexed\").cast(IntegerType()),\n",
        "    col(\"Survived\").cast(IntegerType())\n",
        ")\n",
        "\n",
        "# Creación de la columna de características\n",
        "assembler = VectorAssembler(\n",
        "    inputCols=[\"Pclass\", \"Age\", \"SexIndexed\"],\n",
        "    outputCol=\"features\"\n",
        ")\n",
        "titanic_data_features = assembler.transform(titanic_data_cleaned)\n",
        "\n",
        "# Renombrar columna para el modelo\n",
        "titanic_data_features = titanic_data_features.withColumnRenamed(\"Survived\", \"label\")\n",
        "\n",
        "# Dividir datos en conjuntos de entrenamiento y prueba\n",
        "train_data, test_data = titanic_data_features.randomSplit([0.7, 0.3])\n",
        "\n",
        "# Entrenamiento del modelo\n",
        "lr = LogisticRegression(featuresCol=\"features\", labelCol=\"label\")\n",
        "lr_model = lr.fit(train_data)\n",
        "\n",
        "# Predicciones en el conjunto de test\n",
        "predictions = lr_model.transform(test_data)\n",
        "\n",
        "# Evaluación del rendimiento del modelo\n",
        "evaluator = BinaryClassificationEvaluator(rawPredictionCol=\"rawPrediction\", metricName=\"areaUnderROC\")\n",
        "accuracy = evaluator.evaluate(predictions)\n",
        "\n",
        "print(\"Test Accuracy: \", accuracy)\n"
      ],
      "metadata": {
        "colab": {
          "base_uri": "https://localhost:8080/"
        },
        "id": "ChhPtmj9IlrZ",
        "outputId": "a306f33a-4a1c-456d-d1c3-17c16b45f7f4"
      },
      "id": "ChhPtmj9IlrZ",
      "execution_count": null,
      "outputs": [
        {
          "output_type": "stream",
          "name": "stdout",
          "text": [
            "Test Accuracy:  0.8243055555555555\n"
          ]
        }
      ]
    }
  ],
  "metadata": {
    "colab": {
      "provenance": []
    },
    "language_info": {
      "name": "python"
    },
    "kernelspec": {
      "name": "python3",
      "display_name": "Python 3"
    }
  },
  "nbformat": 4,
  "nbformat_minor": 5
}