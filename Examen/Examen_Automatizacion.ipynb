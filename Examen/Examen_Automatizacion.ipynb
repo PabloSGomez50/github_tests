{
  "nbformat": 4,
  "nbformat_minor": 0,
  "metadata": {
    "kernelspec": {
      "display_name": "Python 3",
      "language": "python",
      "name": "python3"
    },
    "language_info": {
      "codemirror_mode": {
        "name": "ipython",
        "version": 3
      },
      "file_extension": ".py",
      "mimetype": "text/x-python",
      "name": "python",
      "nbconvert_exporter": "python",
      "pygments_lexer": "ipython3",
      "version": "3.7.7"
    },
    "colab": {
      "provenance": []
    }
  },
  "cells": [
    {
      "cell_type": "markdown",
      "metadata": {
        "id": "TgeDuTe8GJBz"
      },
      "source": [
        "<center><img src='https://storage.googleapis.com/humai-datasets/static/logos/estudiante.png' width='150px' margin='100px'></img></center>\n",
        "<center><img src='https://storage.googleapis.com/humai-datasets/static/logos/humai(1).png' width='150px' margin='100px'></img></center>\n",
        "\n",
        "\n",
        "Evaluación - Automatización y Web Scraping\n",
        "\n",
        "\n",
        "\n",
        "---"
      ]
    },
    {
      "cell_type": "markdown",
      "metadata": {
        "id": "sp1lt8qaNGgA"
      },
      "source": [
        "#### Al comenzar:\n",
        "1. **Guardar una copia** de la Colab en tu Google Drive al empezar para poder guardar las respuestas.  \n",
        "```Archivo (File) -> Guardar una copia en drive (Save a copy on Drive) ```\n",
        "2. **Completar** más abajo con tu nombre completo, apellido y mail\n",
        "\n",
        "#### Al finalizar:\n",
        "3. Configurar los permisos del colab utilizado para resolver el examen, para que cualquier persona tenga acceso como \"Lector\". Copiar y pegar el link en la sección correspondiente del cuestionario que figura en el Campus Virtual.\n",
        "4. Revisar todas tus respuestas.\n",
        "\n",
        "El tiempo máximo es de 90 minutos."
      ]
    },
    {
      "cell_type": "markdown",
      "source": [
        "## Código de Conducta\n",
        "Durante el examen pueden buscar en Google, ver el material de clases pasadas o apuntes propios, pero **no se permite consultar a otras personas**.  \n",
        "\n",
        "Aceptar\tser\testudiante\tde Humai conlleva\tla\tobligación de\tuna\tconducta honesta,\tética,\tde\tintegridad y honestidad académica.\n",
        "\n",
        "Esta instancia de evaluación ofrecida por Humai exige un estricto apego a los valores de honestidad intelectual propias a la labor del estudiante. Fallar ante los mismos consistuye no solo un perjucio a la moral y la relación educativa en buena fe, si no que socava el propio esfuerzo de aprendizaje.\n",
        "\n",
        "El plagio y uso abusivo de material intelectual ajeno es considerado una deshonestidad académica. En caso de sospechar una falta al código de Ética, se deliberará una sanción correspondiente que puede incluir la anulación del examen, la suspensión o expulsión de la cursada.\n",
        "\n",
        "En caso de estar de acuerdo, aceptar la siguiente\n",
        "declaración:\n",
        "\n",
        "```Declaro mi compromiso en desempeñarme con honestidad académica e intelectual, y mantener los más altos estándares éticos aplicando los conocimientos contemplados en Humai```"
      ],
      "metadata": {
        "id": "003S451qNb-s"
      }
    },
    {
      "cell_type": "code",
      "source": [
        "Acepto=False #@param{type:\"boolean\"}\n",
        "\n",
        "assert Acepto, 'Se debe aceptar el código de conducta'"
      ],
      "metadata": {
        "cellView": "form",
        "id": "YBE_GF0hM9ro"
      },
      "execution_count": null,
      "outputs": []
    },
    {
      "cell_type": "markdown",
      "source": [
        "No pierdan de vista el total de los ejercicios para administrar el tiempo, les sugerimos que completen primero lo que tengan más claro. Dicho eso."
      ],
      "metadata": {
        "id": "0fEMC8EkSqrI"
      }
    },
    {
      "cell_type": "code",
      "metadata": {
        "id": "MkOzELdMkobR",
        "cellView": "form"
      },
      "source": [
        "#@markdown Datos del estudiante<br><br>\n",
        "#@markdown Ejecutar celda y dar permisos a Google Colab<br><br>\n",
        "\n",
        "import re\n",
        "\n",
        "if 'Acepto' not in globals() or Acepto == False:\n",
        "  raise ValueError('Debes aceptar el codigo de conducta y ejecutar ambas celdas')\n",
        "\n",
        "from datetime import datetime, timedelta\n",
        "_hora = datetime.utcnow()\n",
        "# en arg estamos en utc-3\n",
        "_desfase = timedelta(hours=3)\n",
        "# decimos en qué formato queremos la fecha\n",
        "# ver más en https://realpython.com/python-time-module/\n",
        "_formato = \"%m-%d-%Y_%H:%M:%S\"\n",
        "_fecha_inicio = (_hora - _desfase).strftime(_formato)\n",
        "print((_hora - _desfase).strftime(\"%m/%d/%Y, %H:%M:%S\"))\n",
        "\n",
        "_nombre_completo = '' #@param {type:\"string\"}\n",
        "_mail = '' #@param {type:\"string\"}\n",
        "\n",
        "if len(_nombre_completo) <= 0 or len(_mail) <= 0:\n",
        "  raise ValueError('Es necesario completar nombre completo y mail')\n",
        "\n",
        "# if re.fullmatch(r\"\\s@\\w+\\.com(?:\\.\\w+)?\", _mail, flags=re.IGNORECASE) is None:\n",
        "#   raise ValueError('Es necesario ingresar un mail válido')\n",
        "\n",
        "for i in range(20):\n",
        "  v = f'respuesta_{i}'\n",
        "  if v not in globals():\n",
        "    globals()[v] = ''"
      ],
      "execution_count": null,
      "outputs": []
    },
    {
      "cell_type": "markdown",
      "source": [
        "<center> 🏁 ¡Muchos éxitos 🤓! 🏁 </center>\n",
        "\n",
        "---"
      ],
      "metadata": {
        "id": "GE3nrlSrBViX"
      }
    },
    {
      "cell_type": "markdown",
      "metadata": {
        "id": "D23jC_VdGJB0"
      },
      "source": [
        "#### 1. Las Expresiones Regulares NO sirven para:\n",
        "\n",
        "*1 punto*"
      ]
    },
    {
      "cell_type": "code",
      "metadata": {
        "id": "AqSbn3YxWCGC",
        "cellView": "form"
      },
      "source": [
        "#@markdown Hacer pedidos HTTP\n",
        "A = False #@param{type:\"boolean\"}\n",
        "#@markdown Buscar strings dentro de strings\n",
        "B = False #@param {type:\"boolean\"}\n",
        "#@markdown Descargar código HTML\n",
        "C = False #@param {type:\"boolean\"}\n",
        "#@markdown Limpiar secuencias de caracteres\n",
        "D = False #@param {type:\"boolean\"}\n",
        "\n",
        "respuesta_1 = [A, B, C, D]"
      ],
      "execution_count": null,
      "outputs": []
    },
    {
      "cell_type": "markdown",
      "metadata": {
        "id": "ujQn5N-8W2k8"
      },
      "source": [
        "#### 2. Supón que tienes el siguiente fragmento de código HTML y deseas extraer el texto del párrafo utilizando XPath.\n",
        "```html\n",
        "<div class=\"content\">\n",
        "    <p>Este es el texto que deseas extraer</p>\n",
        "</div>\n",
        "\n",
        "```\n",
        "¿Cuál es la expresión XPath correcta para seleccionar el texto del párrafo?\n",
        "\n",
        "*1 punto*"
      ]
    },
    {
      "cell_type": "code",
      "metadata": {
        "id": "o61O0Ni4W7ys",
        "cellView": "form"
      },
      "source": [
        "\n",
        "xpath = \"Selecciona una opcion\" #@param [\"Selecciona una opcion\", \"div.content.p\", \"//*[@id='content']/p\",\"//div[@class='content']/p\", \"//p[@class='content']\"]\n",
        "respuesta_2 = xpath"
      ],
      "execution_count": null,
      "outputs": []
    },
    {
      "cell_type": "markdown",
      "metadata": {
        "id": "kpPHtF8PGJB0"
      },
      "source": [
        "#### 3. No suele ser particularmente conveniente usar Selenium cuando:\n",
        "\n",
        "*1 punto*"
      ]
    },
    {
      "cell_type": "code",
      "metadata": {
        "id": "c5SCdJahXCzo",
        "cellView": "form"
      },
      "source": [
        "#@markdown Hay contenido generado de manera asincrónica\n",
        "A = False #@param{type:\"boolean\"}\n",
        "#@markdown El contenido que buscamos se genera con JavaScript\n",
        "B = False #@param {type:\"boolean\"}\n",
        "#@markdown La página es antigua\n",
        "C = False #@param {type:\"boolean\"}\n",
        "#@markdown El sitio muestra más contenido ante la interacción\n",
        "D = False #@param {type:\"boolean\"}\n",
        "\n",
        "respuesta_3 = [A, B, C, D]"
      ],
      "execution_count": null,
      "outputs": []
    },
    {
      "cell_type": "markdown",
      "metadata": {
        "id": "8FzDyOJwZMRC"
      },
      "source": [
        "#### 4. En el siguiente código html:\n",
        "*1 punto*\n",
        "\n",
        "```html\n",
        "<a href=\"/wiki/Anexo:Premio_Grammy_a_la_mejor_interpretaci%C3%B3n_en_un_video_musical\"\n",
        "   title=\"Anexo:Premio Grammy a la mejor interpretación en un video musical\">\n",
        "Anexo:Premio Grammy a la mejor interpretación en un video musical\n",
        "</a>\n",
        "```\n",
        "el \"*title*\" es un/a:\n"
      ]
    },
    {
      "cell_type": "code",
      "metadata": {
        "id": "f2PIugQTZMRC",
        "cellView": "form"
      },
      "source": [
        "#@markdown Atributo\n",
        "A = False #@param{type:\"boolean\"}\n",
        "#@markdown Etiqueta\n",
        "B = False #@param {type:\"boolean\"}\n",
        "#@markdown Variable\n",
        "C = False #@param {type:\"boolean\"}\n",
        "#@markdown Constante\n",
        "D  = False #@param {type:\"boolean\"}\n",
        "\n",
        "respuesta_4 = [A, B, C, D]"
      ],
      "execution_count": null,
      "outputs": []
    },
    {
      "cell_type": "markdown",
      "metadata": {
        "id": "4dxJOHFbX4zX"
      },
      "source": [
        "#### 5. El codigo de error 500:\n",
        "\n",
        "*1 punto*\n",
        "\n",
        "**marcar todas las correctas**\n"
      ]
    },
    {
      "cell_type": "code",
      "metadata": {
        "id": "Kg61heT8X4zY",
        "cellView": "form"
      },
      "source": [
        "#@markdown Es un error del lado del cliente\n",
        "A = False #@param{type:\"boolean\"}\n",
        "#@markdown Es un error del lado del servidor\n",
        "B = False #@param {type:\"boolean\"}\n",
        "#@markdown Es el código de error de un pedido HTTP\n",
        "C = False #@param {type:\"boolean\"}\n",
        "#@markdown Es el código de error de un pedido HTML\n",
        "D = False #@param {type:\"boolean\"}\n",
        "\n",
        "respuesta_5 = [A, B, C, D]"
      ],
      "execution_count": null,
      "outputs": []
    },
    {
      "cell_type": "markdown",
      "metadata": {
        "id": "56pB-ZaXGJB0"
      },
      "source": [
        "#### 6. Usar expresiones regulares (regex) para extraer los codigos N-ID del siguiente del siguiente texto:\n",
        "\n",
        "Los codigos N-ID son aquellos codigos conformados por digitos y letras.\n",
        "\n",
        "*1 punto*\n",
        "\n",
        "Guardar la lista de codigos en una variable `respuesta_6`"
      ]
    },
    {
      "cell_type": "code",
      "metadata": {
        "id": "s8aWqvPFGJB0"
      },
      "source": [
        "texto = '''Datos del Empleador:Javier Morales \\n\n",
        "CUIT:2039481034 \\n Contacto:jmorales@opensource.com\n",
        "\\n N-ID:813h19djasdj293j \\n Datos del Empleador: Rodrigo Perez \\n\n",
        "CUIT:2384923483 \\n Contacto: rperez@opensource.com.ar \\n N-ID: 283h1fa93ns8dj3a \\n\n",
        "Datos del Empleador: Sofía Regex \\n CUIT:2374813948 Contacto: sregex@amen.py \\n N-ID: 29283hdj37g9J2s6'''"
      ],
      "execution_count": null,
      "outputs": []
    },
    {
      "cell_type": "code",
      "source": [],
      "metadata": {
        "id": "5MtOIzaqhJuN"
      },
      "execution_count": null,
      "outputs": []
    },
    {
      "cell_type": "code",
      "source": [
        "#@title Correr esta celda, copiar la respuesta y pegar el texto en el campus\n",
        "try:\n",
        "  display(str(list(respuesta_6)))\n",
        "except (NameError):\n",
        "  print(\"No se guardo una respuesta en la varible respuesta_6, copiar la siguinte respuesta:\")\n",
        "  display(str([]))\n",
        "except:\n",
        "  display(str([]))\n"
      ],
      "metadata": {
        "cellView": "form",
        "id": "0m6cxWb-smrj"
      },
      "execution_count": null,
      "outputs": []
    },
    {
      "cell_type": "markdown",
      "metadata": {
        "id": "o-8E8sS2GJB0"
      },
      "source": [
        "#### 7. Extraer todos los links del sitio **`https://www.ambito.com/sitemap.xml`**\n",
        "\n",
        "Pueden usar requests o Selenium, y Beautiful Soup o Regex.\n",
        "\n",
        "*1 punto*\n",
        "\n",
        "Guardar la lista de links en una variable `respuesta_7`"
      ]
    },
    {
      "cell_type": "code",
      "metadata": {
        "id": "PxyIcyizGJB0"
      },
      "source": [],
      "execution_count": null,
      "outputs": []
    },
    {
      "cell_type": "code",
      "source": [
        "#@title Correr esta celda, copiar la respuesta y pegar el texto en el campus\n",
        "try:\n",
        "  display(str(list(respuesta_7)))\n",
        "except (NameError):\n",
        "  print(\"No se guardo una respuesta en la varible respuesta_7, copiar la siguinte respuesta:\")\n",
        "  display(str([]))\n",
        "except:\n",
        "  display(str([]))\n"
      ],
      "metadata": {
        "cellView": "form",
        "id": "MDsXjmCvsk1x"
      },
      "execution_count": null,
      "outputs": []
    },
    {
      "cell_type": "markdown",
      "metadata": {
        "id": "ODF4BItHGJB0"
      },
      "source": [
        "### 8. Consultar la siguiente API para la lista de valores y guardar los datos en un diccionario\n",
        "\n",
        "*1 punto*\n",
        "\n",
        "La siguiente URL devuelve los personajes sin genero (genderless) segun el `ESTADO` (status) en especifico en el que se encuentren:\n",
        "\n",
        "https://rickandmortyapi.com/api/character?status=ESTADO&gender=genderless\n",
        "\n",
        "Los estados a enviar son los siguientes:\n",
        "\n",
        "`estados = ['alive', 'dead', 'unknown', 'failed']`\n",
        "\n",
        "Con la siguiente lista de estados, chequear cuáles son pedidos http válidos viendo el **status_code** en la respuesta, y generar un **diccionario** con la cantidad de personajes genderless que hay en cada estado (status).\n",
        "\n",
        "ej:\n",
        "\n",
        "{'alive': 7, ... y asi con los otros estados}\n",
        "\n",
        "Guardar el diccionario solicitado en una variable `respuesta_8`"
      ]
    },
    {
      "cell_type": "code",
      "metadata": {
        "id": "TatuApC5G5V_"
      },
      "source": [],
      "execution_count": null,
      "outputs": []
    },
    {
      "cell_type": "code",
      "source": [
        "#@title Correr esta celda, copiar la respuesta y pegar el texto en el campus\n",
        "try:\n",
        "  display(str(dict(respuesta_8)))\n",
        "except (NameError):\n",
        "  print(\"No se guardo una respuesta en la varible respuesta_8, copiar la siguinte respuesta:\")\n",
        "  display(str({}))\n",
        "except:\n",
        "  display(str({}))\n"
      ],
      "metadata": {
        "cellView": "form",
        "id": "XM-SJnMdsfzm"
      },
      "execution_count": null,
      "outputs": []
    },
    {
      "cell_type": "markdown",
      "source": [
        "### 9. Crear 3 carpetas llamadas 'csvs', 'mds' y 'jsons' (fuera de 'sample_data') y llenarlas con los archivos correspondientes a cada una de esas 3 extensiones que se encuentran en la carpeta 'sample_data' (viene por defecto en Google Colab)\n",
        "\n",
        " *1 punto*\n",
        "\n",
        "*Tip:* Pueden usar los métodos `makedirs` y `rename` de la libreria `os`"
      ],
      "metadata": {
        "id": "cf-HHSUV9xZr"
      }
    },
    {
      "cell_type": "code",
      "source": [],
      "metadata": {
        "id": "ID9WW5VVsIAh"
      },
      "execution_count": null,
      "outputs": []
    },
    {
      "cell_type": "code",
      "source": [
        "#@title Correr esta celda, copiar la respuesta y pegar el texto en el campus\n",
        "try:\n",
        "  respuesta_9 = {\n",
        "    dir: os.listdir(dir)\n",
        "    for dir in os.listdir('/content/')\n",
        "    if dir in ['csvs', 'jsons', 'mds']\n",
        "  }\n",
        "  display(str(respuesta_9))\n",
        "except (NameError):\n",
        "  print(\"No se guardo una respuesta en la varible respuesta_9, copiar la siguinte respuesta:\")\n",
        "  display(str({}))\n",
        "except:\n",
        "  display(str({}))\n",
        "\n"
      ],
      "metadata": {
        "id": "e3NWhZIbqZ70",
        "cellView": "form"
      },
      "execution_count": null,
      "outputs": []
    },
    {
      "cell_type": "markdown",
      "metadata": {
        "id": "erUPaHKuJwy9"
      },
      "source": [
        "### 10. Buscar la API oculta en https://shop.tesla.com/?tesref=true\n",
        "\n",
        "*1 punto*\n",
        "\n",
        "Generar una lista con las URLs de las imagenes presentes en la seccion de best sellers.\n",
        "\n",
        "**Nota: recuerda usar los headers de user-agent y `'accept-language': 'es,es-ES;q=0.9,en;q=0.8'`**\n",
        "\n",
        "*Tip:* Sabras que los links son correctos porque al darle click te abrira la imagen en el navegador.\n",
        "\n",
        "Guardar la lista de links en una variable `respuesta_10`"
      ]
    },
    {
      "cell_type": "code",
      "source": [],
      "metadata": {
        "id": "tqRQZ7Fc3h5R"
      },
      "execution_count": null,
      "outputs": []
    },
    {
      "cell_type": "code",
      "source": [
        "#@title Correr esta celda, copiar la respuesta y pegar el texto en el campus\n",
        "try:\n",
        "  display(str(list(respuesta_10)))\n",
        "except (NameError):\n",
        "  print(\"No se guardo una respuesta en la varible respuesta_10, copiar la siguinte respuesta:\")\n",
        "  display(str([]))\n",
        "except:\n",
        "  display(str([]))\n"
      ],
      "metadata": {
        "cellView": "form",
        "id": "uhHqUBH2sYmB"
      },
      "execution_count": null,
      "outputs": []
    },
    {
      "cell_type": "markdown",
      "metadata": {
        "id": "4bkxV063ZZXl"
      },
      "source": [
        "---\n",
        "\n",
        "<center>\n",
        "Te enviaremos tu resultado próximamente. Cualquier consulta estamos a disposición por el canal de <a href='https://discord.gg/7G86d7p5'>Discord</a> y por correo.  \n",
        "\n",
        "<h3> <b>¡Muchas gracias! </b> </h3>\n",
        "<br>\n",
        "<table>\n",
        "<td>\n",
        "<center><img src='https://storage.googleapis.com/humai-datasets/static/logos/estudiante.png' width='150px' margin='100px'></img></center>\n",
        "<center><img src='https://storage.googleapis.com/humai-datasets/static/logos/humai(1).png' width='150px' margin='100px'></img></center>\n",
        "\n",
        "\n",
        "<a href=\"https://discord.gg/wYCA2chQvb\"><img\n",
        "        src=\"https://cdn-icons-png.flaticon.com/512/5968/5968898.png\" width=\"30px\" alt=\"discord\"></a>\n",
        "<a href=\"https://www.instagram.com/institutohumai\">\n",
        "<img src=\"https://storage.googleapis.com/humai-datasets/static/icons/ig.png\" width=\"30px\" alt=\"IG\"></a><a href=\"https://github.com/institutohumai\"><img src=\"https://storage.googleapis.com/humai-datasets/static/icons/github_b.png\" width=\"30px\" alt=\"Git\"></a><a href=\"https://www.linkedin.com/company/instituto-humai/\"><img src=\"https://storage.googleapis.com/humai-datasets/static/icons/linkedin.png\" width=\"30px\" alt=\"LinkedIn\"></a><a href=\"https://www.facebook.com/iHumai\"><img src=\"https://storage.googleapis.com/humai-datasets/static/icons/facebook.png\" width=\"30px\" alt=\"FB\"></a></center>"
      ]
    }
  ]
}