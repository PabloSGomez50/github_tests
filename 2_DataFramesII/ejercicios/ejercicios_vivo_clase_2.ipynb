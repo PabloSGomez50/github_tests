{
  "cells": [
    {
      "cell_type": "markdown",
      "id": "d040b04a",
      "metadata": {
        "id": "d040b04a"
      },
      "source": [
        "# Ejercicios Vivo Clase 2\n"
      ]
    },
    {
      "cell_type": "markdown",
      "id": "b9d8ccf8",
      "metadata": {
        "id": "b9d8ccf8"
      },
      "source": [
        "## Resumen estadístico de columnas numéricas seleccionadas\n",
        "Obtenga un resumen estadístico de las columnas 'AMT_INCOME_TOTAL', 'CNT_CHILDREN' y 'CNT_FAM_MEMBERS' usando el DataFrame 'application_record'."
      ]
    },
    {
      "cell_type": "code",
      "source": [
        "!pip install pyspark -q"
      ],
      "metadata": {
        "colab": {
          "base_uri": "https://localhost:8080/"
        },
        "id": "EHcaiIYIysJD",
        "outputId": "c7d86ebe-1db1-4949-f2dc-908d81fa09bf"
      },
      "id": "EHcaiIYIysJD",
      "execution_count": null,
      "outputs": [
        {
          "output_type": "stream",
          "name": "stdout",
          "text": [
            "\u001b[2K     \u001b[90m━━━━━━━━━━━━━━━━━━━━━━━━━━━━━━━━━━━━━━━\u001b[0m \u001b[32m310.8/310.8 MB\u001b[0m \u001b[31m3.1 MB/s\u001b[0m eta \u001b[36m0:00:00\u001b[0m\n",
            "\u001b[?25h  Preparing metadata (setup.py) ... \u001b[?25l\u001b[?25hdone\n",
            "  Building wheel for pyspark (setup.py) ... \u001b[?25l\u001b[?25hdone\n"
          ]
        }
      ]
    },
    {
      "cell_type": "code",
      "source": [
        "import pyspark\n",
        "from pyspark.sql import SparkSession\n",
        "spark = SparkSession.builder\\\n",
        "        .master(\"local[*]\")\\\n",
        "        .appName(\"Ejercicio Vivo Clase 2\")\\\n",
        "        .getOrCreate()"
      ],
      "metadata": {
        "id": "zDmSw4OnOQPF"
      },
      "id": "zDmSw4OnOQPF",
      "execution_count": null,
      "outputs": []
    },
    {
      "cell_type": "code",
      "source": [
        "from zipfile import ZipFile\n",
        "import requests\n",
        "\n",
        "with open(\"./credit_cards_data.zip\", \"wb\") as f:\n",
        "    f.write(requests.get(\"https://github.com/engcarlosperezmolero/resources_and_tools/blob/main/data/csv/credit_cards_data.zip?raw=true\").content)\n",
        "\n",
        "zip_ref = ZipFile(f\"/content/credit_cards_data.zip\")\n",
        "zip_ref.extractall()\n",
        "zip_ref.close()\n",
        "\n",
        "application_record = spark.read.csv('/content/credit_cards_data/application_record.csv', header=True, inferSchema=True)\n",
        "credit_record = spark.read.csv('/content/credit_cards_data/credit_records_toy.csv', header=True, inferSchema=True)"
      ],
      "metadata": {
        "id": "K39cpTwvzyO6"
      },
      "id": "K39cpTwvzyO6",
      "execution_count": null,
      "outputs": []
    },
    {
      "cell_type": "markdown",
      "source": [
        "## Calcula el resumen estadistico\n",
        "Calcula la media, la desviacion standard y el count del dataframe application_record"
      ],
      "metadata": {
        "id": "cwpr_ImKOHUU"
      },
      "id": "cwpr_ImKOHUU"
    },
    {
      "cell_type": "code",
      "execution_count": null,
      "id": "2bf4f0d6",
      "metadata": {
        "id": "2bf4f0d6"
      },
      "outputs": [],
      "source": [
        "from pyspark.sql.functions import col, mean, stddev, count, format_number\n",
        "\n",
        "# Función para calcular el resumen estadístico y formatear\n",
        "def summary_stats(column):\n",
        "    return\n",
        "# Aplicando la función a las columnas seleccionadas y mostrando el resultado\n",
        "summary_stats('AMT_INCOME_TOTAL').show()\n",
        "summary_stats('CNT_CHILDREN').show()\n",
        "summary_stats('CNT_FAM_MEMBERS').show()"
      ]
    },
    {
      "cell_type": "markdown",
      "id": "f185c7ab",
      "metadata": {
        "id": "f185c7ab"
      },
      "source": [
        "## Media de ingresos agrupados por género\n",
        "Calcula la media de ingresos ('AMT_INCOME_TOTAL') agrupados por género ('CODE_GENDER') en el DataFrame 'application_record'."
      ]
    },
    {
      "cell_type": "code",
      "execution_count": null,
      "id": "fff60ce4",
      "metadata": {
        "id": "fff60ce4"
      },
      "outputs": [],
      "source": [
        "from pyspark.sql.functions import avg\n",
        "\n",
        "# Calcular la media de ingresos agrupados por género y mostrar el resultado\n",
        "application_record.groupBy().agg(avg()).show()"
      ]
    },
    {
      "cell_type": "markdown",
      "id": "94a3d458",
      "metadata": {
        "id": "94a3d458"
      },
      "source": [
        "## Conteo de créditos por estado y género\n",
        "Realice un join de los DataFrames 'application_record' y 'credit_record' por la columna 'ID' y encuentre el conteo de cada estado de crédito ('STATUS') agrupado por género ('CODE_GENDER')."
      ]
    },
    {
      "cell_type": "code",
      "execution_count": null,
      "id": "3a935719",
      "metadata": {
        "id": "3a935719"
      },
      "outputs": [],
      "source": [
        "from pyspark.sql.functions import count\n",
        "\n",
        "# Realizar el join de los DataFrames por ID\n",
        "\n",
        "\n",
        "# Calcular conteo de créditos por estado y género\n",
        "\n",
        "\n",
        "# Mostrar resultado\n"
      ]
    }
  ],
  "metadata": {
    "colab": {
      "provenance": []
    },
    "language_info": {
      "name": "python"
    },
    "kernelspec": {
      "name": "python3",
      "display_name": "Python 3"
    }
  },
  "nbformat": 4,
  "nbformat_minor": 5
}