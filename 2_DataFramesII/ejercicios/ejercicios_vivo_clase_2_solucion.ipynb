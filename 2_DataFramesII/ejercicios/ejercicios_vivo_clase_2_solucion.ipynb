{
  "cells": [
    {
      "cell_type": "markdown",
      "id": "d040b04a",
      "metadata": {
        "id": "d040b04a"
      },
      "source": [
        "# Ejercicios Vivo Clase 2\n"
      ]
    },
    {
      "cell_type": "markdown",
      "id": "b9d8ccf8",
      "metadata": {
        "id": "b9d8ccf8"
      },
      "source": [
        "## Resumen estadístico de columnas numéricas seleccionadas\n",
        "Obtenga un resumen estadístico de las columnas 'AMT_INCOME_TOTAL', 'CNT_CHILDREN' y 'CNT_FAM_MEMBERS' usando el DataFrame 'application_record'."
      ]
    },
    {
      "cell_type": "code",
      "source": [
        "!pip install pyspark -q"
      ],
      "metadata": {
        "colab": {
          "base_uri": "https://localhost:8080/"
        },
        "id": "EHcaiIYIysJD",
        "outputId": "09624a61-ebcb-40a8-d050-9ba59dbec9d1"
      },
      "id": "EHcaiIYIysJD",
      "execution_count": null,
      "outputs": [
        {
          "output_type": "stream",
          "name": "stdout",
          "text": [
            "\u001b[2K     \u001b[90m━━━━━━━━━━━━━━━━━━━━━━━━━━━━━━━━━━━━━━━\u001b[0m \u001b[32m310.8/310.8 MB\u001b[0m \u001b[31m2.5 MB/s\u001b[0m eta \u001b[36m0:00:00\u001b[0m\n",
            "\u001b[?25h  Preparing metadata (setup.py) ... \u001b[?25l\u001b[?25hdone\n",
            "  Building wheel for pyspark (setup.py) ... \u001b[?25l\u001b[?25hdone\n"
          ]
        }
      ]
    },
    {
      "cell_type": "code",
      "source": [
        "import pyspark\n",
        "from pyspark.sql import SparkSession\n",
        "spark = SparkSession.builder\\\n",
        "        .master(\"local[*]\")\\\n",
        "        .appName(\"Ejercicio Vivo Clase 2\")\\\n",
        "        .getOrCreate()"
      ],
      "metadata": {
        "id": "zDmSw4OnOQPF"
      },
      "id": "zDmSw4OnOQPF",
      "execution_count": null,
      "outputs": []
    },
    {
      "cell_type": "code",
      "source": [
        "from zipfile import ZipFile\n",
        "import requests\n",
        "\n",
        "with open(\"./credit_cards_data.zip\", \"wb\") as f:\n",
        "    f.write(requests.get(\"https://github.com/engcarlosperezmolero/resources_and_tools/blob/main/data/csv/credit_cards_data.zip?raw=true\").content)\n",
        "\n",
        "zip_ref = ZipFile(f\"/content/credit_cards_data.zip\")\n",
        "zip_ref.extractall()\n",
        "zip_ref.close()\n",
        "\n",
        "application_record = spark.read.csv('/content/credit_cards_data/application_record.csv', header=True, inferSchema=True)\n",
        "credit_record = spark.read.csv('/content/credit_cards_data/credit_records_toy.csv', header=True, inferSchema=True)"
      ],
      "metadata": {
        "id": "K39cpTwvzyO6"
      },
      "id": "K39cpTwvzyO6",
      "execution_count": null,
      "outputs": []
    },
    {
      "cell_type": "markdown",
      "source": [],
      "metadata": {
        "id": "upewgwjmN8JC"
      },
      "id": "upewgwjmN8JC"
    },
    {
      "cell_type": "code",
      "execution_count": null,
      "id": "2bf4f0d6",
      "metadata": {
        "id": "2bf4f0d6",
        "colab": {
          "base_uri": "https://localhost:8080/"
        },
        "outputId": "aad1a260-6d8a-4149-d4b6-8c622ddd719b"
      },
      "outputs": [
        {
          "output_type": "stream",
          "name": "stdout",
          "text": [
            "+----------+----------+------+\n",
            "|      mean|    stddev| count|\n",
            "+----------+----------+------+\n",
            "|187,524.29|110,086.85|438557|\n",
            "+----------+----------+------+\n",
            "\n",
            "+----+------+------+\n",
            "|mean|stddev| count|\n",
            "+----+------+------+\n",
            "|0.43|  0.72|438557|\n",
            "+----+------+------+\n",
            "\n",
            "+----+------+------+\n",
            "|mean|stddev| count|\n",
            "+----+------+------+\n",
            "|2.19|  0.90|438557|\n",
            "+----+------+------+\n",
            "\n"
          ]
        }
      ],
      "source": [
        "from pyspark.sql.functions import col, mean, stddev, count, format_number\n",
        "\n",
        "# Función para calcular el resumen estadístico y formatear\n",
        "def summary_stats(column):\n",
        "    return (application_record.agg(mean(column).alias('mean'), stddev(column).alias('stddev'), count(column).alias('count')).select(format_number(col('mean'), 2).alias('mean'), format_number(col('stddev'), 2).alias('stddev'), col('count')))\n",
        "\n",
        "# Aplicando la función a las columnas seleccionadas y mostrando el resultado\n",
        "summary_stats('AMT_INCOME_TOTAL').show()\n",
        "summary_stats('CNT_CHILDREN').show()\n",
        "summary_stats('CNT_FAM_MEMBERS').show()"
      ]
    },
    {
      "cell_type": "markdown",
      "id": "f185c7ab",
      "metadata": {
        "id": "f185c7ab"
      },
      "source": [
        "## Media de ingresos agrupados por género\n",
        "Calcula la media de ingresos ('AMT_INCOME_TOTAL') agrupados por género ('CODE_GENDER') en el DataFrame 'application_record'."
      ]
    },
    {
      "cell_type": "code",
      "execution_count": null,
      "id": "fff60ce4",
      "metadata": {
        "id": "fff60ce4",
        "colab": {
          "base_uri": "https://localhost:8080/"
        },
        "outputId": "f620fb0a-2a39-4477-89f7-8b8d77e6d2e3"
      },
      "outputs": [
        {
          "output_type": "stream",
          "name": "stdout",
          "text": [
            "+-----------+------------------+\n",
            "|CODE_GENDER|       mean_income|\n",
            "+-----------+------------------+\n",
            "|          F|174523.04091044018|\n",
            "|          M| 214086.6388684194|\n",
            "+-----------+------------------+\n",
            "\n"
          ]
        }
      ],
      "source": [
        "from pyspark.sql.functions import avg\n",
        "\n",
        "# Calcular la media de ingresos agrupados por género y mostrar el resultado\n",
        "application_record.groupBy('CODE_GENDER').agg(avg('AMT_INCOME_TOTAL').alias('mean_income')).show()"
      ]
    },
    {
      "cell_type": "markdown",
      "id": "94a3d458",
      "metadata": {
        "id": "94a3d458"
      },
      "source": [
        "## Conteo de créditos por estado y género\n",
        "Realice un join de los DataFrames 'application_record' y 'credit_record' por la columna 'ID' y encuentre el conteo de cada estado de crédito ('STATUS') agrupado por género ('CODE_GENDER')."
      ]
    },
    {
      "cell_type": "code",
      "execution_count": null,
      "id": "3a935719",
      "metadata": {
        "id": "3a935719",
        "colab": {
          "base_uri": "https://localhost:8080/"
        },
        "outputId": "0b0af5e1-9aa5-426a-a4a4-e19869c2d881"
      },
      "outputs": [
        {
          "output_type": "stream",
          "name": "stdout",
          "text": [
            "+-----------+------+------------+\n",
            "|CODE_GENDER|STATUS|count_status|\n",
            "+-----------+------+------------+\n",
            "|          M|     C|      108080|\n",
            "|          M|     1|        3217|\n",
            "|          F|     C|      221456|\n",
            "|          M|     4|          86|\n",
            "|          M|     3|         108|\n",
            "|          F|     4|         128|\n",
            "|          M|     X|       50672|\n",
            "|          M|     5|         718|\n",
            "|          F|     2|         510|\n",
            "|          M|     2|         291|\n",
            "|          F|     1|        5530|\n",
            "|          F|     X|       95278|\n",
            "|          F|     5|         809|\n",
            "|          F|     3|         178|\n",
            "|          F|     0|      194962|\n",
            "|          M|     0|       95692|\n",
            "+-----------+------+------------+\n",
            "\n"
          ]
        }
      ],
      "source": [
        "from pyspark.sql.functions import count\n",
        "\n",
        "# Realizar el join de los DataFrames por ID\n",
        "joined_df = application_record.join(credit_record, on='ID')\n",
        "\n",
        "# Calcular conteo de créditos por estado y género\n",
        "conteo_creditos_estado_genero = joined_df.groupBy('CODE_GENDER', 'STATUS').agg(count('STATUS').alias('count_status'))\n",
        "\n",
        "# Mostrar resultado\n",
        "conteo_creditos_estado_genero.show()"
      ]
    }
  ],
  "metadata": {
    "colab": {
      "provenance": []
    },
    "language_info": {
      "name": "python"
    },
    "kernelspec": {
      "name": "python3",
      "display_name": "Python 3"
    }
  },
  "nbformat": 4,
  "nbformat_minor": 5
}