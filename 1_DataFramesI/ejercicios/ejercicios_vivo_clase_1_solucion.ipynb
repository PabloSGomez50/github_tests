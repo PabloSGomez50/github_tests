{
  "cells": [
    {
      "cell_type": "markdown",
      "id": "55b70a26",
      "metadata": {
        "id": "55b70a26"
      },
      "source": [
        "# Ejercicios Vivo Clase 1\n"
      ]
    },
    {
      "cell_type": "markdown",
      "id": "WbX-rA6w-y4Q",
      "metadata": {
        "id": "WbX-rA6w-y4Q"
      },
      "source": [
        "## Setup\n",
        "Instalo pyspark\n"
      ]
    },
    {
      "cell_type": "code",
      "execution_count": null,
      "id": "6AKEWRWQ-i7w",
      "metadata": {
        "colab": {
          "base_uri": "https://localhost:8080/"
        },
        "id": "6AKEWRWQ-i7w",
        "outputId": "c6d08476-82af-4867-d53c-7a4cd93df096"
      },
      "outputs": [
        {
          "name": "stdout",
          "output_type": "stream",
          "text": [
            "\u001b[2K     \u001b[90m━━━━━━━━━━━━━━━━━━━━━━━━━━━━━━━━━━━━━━━\u001b[0m \u001b[32m310.8/310.8 MB\u001b[0m \u001b[31m1.2 MB/s\u001b[0m eta \u001b[36m0:00:00\u001b[0m\n",
            "\u001b[?25h  Preparing metadata (setup.py) ... \u001b[?25l\u001b[?25hdone\n",
            "  Building wheel for pyspark (setup.py) ... \u001b[?25l\u001b[?25hdone\n"
          ]
        }
      ],
      "source": [
        "!pip3 install pyspark -q"
      ]
    },
    {
      "cell_type": "markdown",
      "id": "rRUQqfP4ClIU",
      "metadata": {
        "id": "rRUQqfP4ClIU"
      },
      "source": [
        "##Ejecuta las siguientes celdas para acceder al archivo que usaremos en el ejercicio e instalar spark en esta instancia de colab."
      ]
    },
    {
      "cell_type": "code",
      "execution_count": null,
      "id": "-F9bJKBtCrIx",
      "metadata": {
        "id": "-F9bJKBtCrIx"
      },
      "outputs": [],
      "source": [
        "import requests\n",
        "with open(\"./energias.csv\", \"wb\") as f:\n",
        "    f.write(requests.get(\"https://raw.githubusercontent.com/engcarlosperezmolero/resources_and_tools/main/data/csv/energias-alternativas.csv\").content)"
      ]
    },
    {
      "cell_type": "markdown",
      "id": "12d1bc8d",
      "metadata": {
        "id": "12d1bc8d"
      },
      "source": [
        "## Crear un RDD y contar el número de registros\n",
        "Crea un RDD a partir del archivo \"./energias.csv\" y cuenta el número de registros presentes en él.\n"
      ]
    },
    {
      "cell_type": "code",
      "execution_count": null,
      "id": "f041bbb1",
      "metadata": {
        "colab": {
          "base_uri": "https://localhost:8080/"
        },
        "id": "f041bbb1",
        "outputId": "314dbe41-740a-4db8-a2cd-f04be9714d51"
      },
      "outputs": [
        {
          "name": "stdout",
          "output_type": "stream",
          "text": [
            "<class 'pyspark.rdd.RDD'>\n",
            "5312\n"
          ]
        }
      ],
      "source": [
        "from pyspark import SparkContext, SparkConf\n",
        "\n",
        "# Configura el SparkContext\n",
        "conf = SparkConf().setMaster(\"local\").setAppName(\"Ejercicio1\")\n",
        "\n",
        "# Obtiene el SparkContext existente o crea uno nuevo\n",
        "sc = SparkContext.getOrCreate(conf)\n",
        "\n",
        "data = sc.textFile(\"./energias.csv\")\n",
        "print(type(data))\n",
        "print(data.count())"
      ]
    },
    {
      "cell_type": "markdown",
      "id": "VRM626CMDGVt",
      "metadata": {
        "id": "VRM626CMDGVt"
      },
      "source": [
        "##Posibles errores:\n",
        "\n",
        "\n",
        "*   ValueError: Cannot run multiple SparkContexts at once; existing SparkContext(app=Ejercicio1, master=local) created by __init__ at <ipython-input-3-61a570d717c2>:3 --> Ya creaste un SparkContexts\n",
        "\n",
        "\n",
        "*   No encuentra el archivo csv\n",
        "\n"
      ]
    },
    {
      "cell_type": "markdown",
      "id": "84ac0070",
      "metadata": {
        "id": "84ac0070"
      },
      "source": [
        "## Obtener el mínimo, máximo y promedio de la columna \"potencia_instalada\"\n",
        "Crea un RDD a partir del archivo \"./energias.csv\" y obtén el mínimo, máximo y promedio de la columna \"potencia_instalada\".\n"
      ]
    },
    {
      "cell_type": "code",
      "execution_count": null,
      "id": "28a3a592",
      "metadata": {
        "colab": {
          "base_uri": "https://localhost:8080/"
        },
        "id": "28a3a592",
        "outputId": "a2c8e13d-cf9f-4ffe-d757-73d9067459a1"
      },
      "outputs": [
        {
          "name": "stdout",
          "output_type": "stream",
          "text": [
            "Min: 0.0, Max: 752501.256, Promedio: 20086.47435322918\n"
          ]
        }
      ],
      "source": [
        "def obtener_potencia(line):\n",
        "    campos = line.split(\",\")\n",
        "    try:\n",
        "        potencia = float(campos[13])\n",
        "        return potencia\n",
        "    except ValueError:\n",
        "        return None\n",
        "\n",
        "# Aplico la funcion 'obtener_potencia' a cada linea del RDD\n",
        "potencias = data.map(obtener_potencia)\n",
        "\n",
        "# Filtro los valores no nulos\n",
        "potencias = potencias.filter(lambda x: x is not None)\n",
        "\n",
        "# Calculo el minimo, el maximo y el promedio\n",
        "potencia_min = potencias.min()\n",
        "potencia_max = potencias.max()\n",
        "potencia_promedio = potencias.mean()\n",
        "\n",
        "# Imprimo los resultados\n",
        "print(f\"Min: {potencia_min}, Max: {potencia_max}, Promedio: {potencia_promedio}\")"
      ]
    },
    {
      "cell_type": "markdown",
      "id": "0dd53ed4",
      "metadata": {
        "id": "0dd53ed4"
      },
      "source": [
        "## Filtrar y ordenar registros por \"potencia_instalada\"\n",
        "Crea un RDD a partir del archivo \"./energias.csv\", filtra los registros que tengan \"potencia_instalada\" mayor a 20 y ordénalos de manera descendente.\n"
      ]
    },
    {
      "cell_type": "code",
      "execution_count": null,
      "id": "b68a79d4",
      "metadata": {
        "colab": {
          "base_uri": "https://localhost:8080/"
        },
        "id": "b68a79d4",
        "outputId": "8fd3736a-d32b-41ce-c1bc-821ad938b0e2"
      },
      "outputs": [
        {
          "name": "stdout",
          "output_type": "stream",
          "text": [
            "25,Energias alternativas,445,Energia nuclear,Generacion,MWh,CAMMESA,Mensual,Nacional,PROVINCIA,6,BUENOS AIRES,2018-05-01,752501.256\n",
            "25,Energias alternativas,445,Energia nuclear,Generacion,MWh,CAMMESA,Mensual,Nacional,PROVINCIA,6,BUENOS AIRES,2016-05-01,749102.828\n",
            "25,Energias alternativas,445,Energia nuclear,Generacion,MWh,CAMMESA,Mensual,Nacional,PROVINCIA,6,BUENOS AIRES,2018-06-01,741414.599\n",
            "25,Energias alternativas,445,Energia nuclear,Generacion,MWh,CAMMESA,Mensual,Nacional,PROVINCIA,6,BUENOS AIRES,2016-10-01,740803.27\n",
            "25,Energias alternativas,445,Energia nuclear,Generacion,MWh,CAMMESA,Mensual,Nacional,PROVINCIA,6,BUENOS AIRES,2018-07-01,706410.365\n"
          ]
        }
      ],
      "source": [
        "def filtro_potencia_mayor_20(linea):\n",
        "    campos = linea.split(\",\")\n",
        "    try:\n",
        "        return float(campos[13]) > 20\n",
        "    except ValueError:\n",
        "        return False\n",
        "\n",
        "data_filtrada = data.filter(filtro_potencia_mayor_20)\n",
        "\n",
        "def obtener_potencia_registro(linea):\n",
        "    campos = linea.split(\",\")\n",
        "    return (float(campos[13]), linea)\n",
        "\n",
        "data_filtrada_potencia = data_filtrada.map(obtener_potencia_registro)\n",
        "data_filtrada_potencia_ordenada = data_filtrada_potencia.sortByKey(ascending=False)\n",
        "registros_ordenados = data_filtrada_potencia_ordenada.map(lambda x: x[1])\n",
        "\n",
        "#print(registros_ordenados.take(5))\n",
        "for i in registros_ordenados.take(5):\n",
        "  print(i)"
      ]
    }
  ],
  "metadata": {
    "colab": {
      "provenance": []
    },
    "kernelspec": {
      "display_name": "Python 3",
      "name": "python3"
    },
    "language_info": {
      "name": "python"
    }
  },
  "nbformat": 4,
  "nbformat_minor": 5
}
