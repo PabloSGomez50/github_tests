{
  "cells": [
    {
      "cell_type": "markdown",
      "id": "55b70a26",
      "metadata": {
        "id": "55b70a26"
      },
      "source": [
        "# Ejercicios Vivo Clase 1\n"
      ]
    },
    {
      "cell_type": "code",
      "source": [
        "!pip3 install pyspark -q"
      ],
      "metadata": {
        "id": "b0IcjgmJcCfd",
        "colab": {
          "base_uri": "https://localhost:8080/"
        },
        "outputId": "9bc9e08f-69a7-4cfd-c7d7-4c63e550fc72"
      },
      "id": "b0IcjgmJcCfd",
      "execution_count": null,
      "outputs": [
        {
          "output_type": "stream",
          "name": "stdout",
          "text": [
            "\u001b[2K     \u001b[90m━━━━━━━━━━━━━━━━━━━━━━━━━━━━━━━━━━━━━━━\u001b[0m \u001b[32m310.8/310.8 MB\u001b[0m \u001b[31m2.6 MB/s\u001b[0m eta \u001b[36m0:00:00\u001b[0m\n",
            "\u001b[?25h  Preparing metadata (setup.py) ... \u001b[?25l\u001b[?25hdone\n",
            "  Building wheel for pyspark (setup.py) ... \u001b[?25l\u001b[?25hdone\n"
          ]
        }
      ]
    },
    {
      "cell_type": "markdown",
      "source": [
        "##Ejecuta las siguientes celdas para acceder al archivo que usaremos en el ejercicio e instalar spark en esta instancia de colab."
      ],
      "metadata": {
        "id": "HkGF7t5GcVC6"
      },
      "id": "HkGF7t5GcVC6"
    },
    {
      "cell_type": "code",
      "source": [
        "import requests\n",
        "with open(\"./energias.csv\", \"wb\") as f:\n",
        "    f.write(requests.get(\"https://raw.githubusercontent.com/engcarlosperezmolero/resources_and_tools/main/data/csv/energias-alternativas.csv\").content)"
      ],
      "metadata": {
        "id": "OEua3bDLcKG0"
      },
      "id": "OEua3bDLcKG0",
      "execution_count": null,
      "outputs": []
    },
    {
      "cell_type": "markdown",
      "id": "12d1bc8d",
      "metadata": {
        "id": "12d1bc8d"
      },
      "source": [
        "## Crear un RDD y contar el número de registros\n",
        "Crea un RDD a partir del archivo \"./energias.csv\" y cuenta el número de registros presentes en él.\n"
      ]
    },
    {
      "cell_type": "code",
      "execution_count": null,
      "id": "f041bbb1",
      "metadata": {
        "id": "f041bbb1",
        "colab": {
          "base_uri": "https://localhost:8080/"
        },
        "outputId": "3d550700-e532-4c02-be37-bbea5a069822"
      },
      "outputs": [
        {
          "output_type": "stream",
          "name": "stdout",
          "text": [
            "5312\n"
          ]
        }
      ],
      "source": [
        "from pyspark import SparkContext\n",
        "\n",
        "sc = SparkContext(\"local\", \"Ejercicio1S\")\n",
        "data = sc.textFile(\"./energias.csv\")\n",
        "print(data.count())"
      ]
    },
    {
      "cell_type": "markdown",
      "id": "84ac0070",
      "metadata": {
        "id": "84ac0070"
      },
      "source": [
        "## Obtener el mínimo, máximo y promedio de la columna \"potencia_instalada\"\n",
        "Crea un RDD a partir del archivo \"./energias.csv\" y obtén el mínimo, máximo y promedio de la columna \"potencia_instalada\".\n"
      ]
    },
    {
      "cell_type": "code",
      "execution_count": null,
      "id": "28a3a592",
      "metadata": {
        "id": "28a3a592"
      },
      "outputs": [],
      "source": [
        "def obtener_potencia(linea):\n",
        "    return"
      ]
    },
    {
      "cell_type": "markdown",
      "id": "0dd53ed4",
      "metadata": {
        "id": "0dd53ed4"
      },
      "source": [
        "## Filtrar y ordenar registros por \"potencia_instalada\"\n",
        "Crea un RDD a partir del archivo \"./energias.csv\", filtra los registros que tengan \"potencia_instalada\" mayor a 20 y ordénalos de manera descendente.\n"
      ]
    },
    {
      "cell_type": "code",
      "execution_count": null,
      "id": "b68a79d4",
      "metadata": {
        "id": "b68a79d4"
      },
      "outputs": [],
      "source": [
        "\n",
        "def filtro_potencia_mayor_20(linea):\n",
        "    return"
      ]
    }
  ],
  "metadata": {
    "colab": {
      "provenance": []
    },
    "language_info": {
      "name": "python"
    },
    "kernelspec": {
      "name": "python3",
      "display_name": "Python 3"
    }
  },
  "nbformat": 4,
  "nbformat_minor": 5
}